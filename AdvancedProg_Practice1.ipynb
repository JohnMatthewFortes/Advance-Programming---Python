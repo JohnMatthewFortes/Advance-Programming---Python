{
 "cells": [
  {
   "cell_type": "markdown",
   "id": "1f12d020",
   "metadata": {},
   "source": [
    "# Coding Practice"
   ]
  },
  {
   "cell_type": "code",
   "execution_count": 43,
   "id": "04853b0d",
   "metadata": {},
   "outputs": [
    {
     "name": "stdout",
     "output_type": "stream",
     "text": [
      "Hello World!!!\n",
      "John Matthew Fortes\n",
      "Advanced Computer Pogramming\n",
      "Coding Practice\n"
     ]
    }
   ],
   "source": [
    "print(\"Hello World!!!\")\n",
    "print(\"John Matthew Fortes\")\n",
    "print(\"Advanced Computer Pogramming\")\n",
    "print(\"Coding Practice\")"
   ]
  },
  {
   "cell_type": "code",
   "execution_count": 44,
   "id": "20e73ab4",
   "metadata": {},
   "outputs": [
    {
     "name": "stdout",
     "output_type": "stream",
     "text": [
      "Hello World!!! John Matthew Fortes Advanced Computer Programming Coding Practice\n"
     ]
    }
   ],
   "source": [
    "a = \"Hello World!!!\"\n",
    "b = \"John Matthew Fortes\"\n",
    "c = \"Advanced Computer Programming\"\n",
    "d = \"Coding Practice\"\n",
    "\n",
    "print(a , b , c , d) #printing multiple string"
   ]
  },
  {
   "cell_type": "code",
   "execution_count": 45,
   "id": "c8c449bc",
   "metadata": {},
   "outputs": [
    {
     "name": "stdout",
     "output_type": "stream",
     "text": [
      "<class 'str'>\n"
     ]
    }
   ],
   "source": [
    "print(type(a)) #printing the datatype used in variable a"
   ]
  },
  {
   "cell_type": "code",
   "execution_count": 46,
   "id": "0fdb48e6",
   "metadata": {},
   "outputs": [
    {
     "name": "stdout",
     "output_type": "stream",
     "text": [
      "<class 'str'>\n"
     ]
    }
   ],
   "source": [
    "print(type(b))"
   ]
  },
  {
   "cell_type": "code",
   "execution_count": 47,
   "id": "a5269b27",
   "metadata": {},
   "outputs": [
    {
     "name": "stdout",
     "output_type": "stream",
     "text": [
      "30\n"
     ]
    }
   ],
   "source": [
    "print(26 + 4) #printing mathematical equations"
   ]
  },
  {
   "cell_type": "code",
   "execution_count": 48,
   "id": "1754d265",
   "metadata": {},
   "outputs": [
    {
     "name": "stdout",
     "output_type": "stream",
     "text": [
      "9.0\n"
     ]
    }
   ],
   "source": [
    "print(81 / 9)"
   ]
  },
  {
   "cell_type": "code",
   "execution_count": null,
   "id": "e0dd1dfc",
   "metadata": {},
   "outputs": [],
   "source": []
  },
  {
   "cell_type": "code",
   "execution_count": 49,
   "id": "bb6b60d1",
   "metadata": {},
   "outputs": [
    {
     "name": "stdout",
     "output_type": "stream",
     "text": [
      "i 50 is greater than 20 j\n",
      "<class 'int'>\n"
     ]
    }
   ],
   "source": [
    "i = 50\n",
    "j = 20\n",
    "\n",
    "if i > j: #if statement \n",
    "    print(\"i\" , i , \"is greater than\" , j , \"j\")\n",
    "print(type(i)) #printing datatype used "
   ]
  },
  {
   "cell_type": "code",
   "execution_count": 50,
   "id": "101ae6b8",
   "metadata": {},
   "outputs": [
    {
     "name": "stdout",
     "output_type": "stream",
     "text": [
      "i 50 is greater than 20 j\n"
     ]
    }
   ],
   "source": [
    "i = 50\n",
    "j = 20\n",
    "\n",
    "if i < j: #if statement \n",
    "    print(\"i\" , i , \"is less than\" , j , \"j\")\n",
    "elif i == j: #else if statement\n",
    "    print(\"i\" , i , \"is equal to\" , j , \"j\")\n",
    "else:\n",
    "    print(\"i\" , i , \"is greater than\" , j , \"j\")"
   ]
  },
  {
   "cell_type": "code",
   "execution_count": 51,
   "id": "a22b821e",
   "metadata": {},
   "outputs": [
    {
     "name": "stdout",
     "output_type": "stream",
     "text": [
      "i 50 is equal to 50 j\n"
     ]
    }
   ],
   "source": [
    "i = 50\n",
    "j = 50\n",
    "\n",
    "if i < j: #if statement \n",
    "    print(\"i\" , i , \"is less than\" , j , \"j\")\n",
    "elif i == j: #else if statement\n",
    "    print(\"i\" , i , \"is equal to\" , j , \"j\")\n",
    "else: #else\n",
    "    print(\"i\" , i , \"is greater than\" , j , \"j\")"
   ]
  },
  {
   "cell_type": "code",
   "execution_count": 52,
   "id": "17059d0f",
   "metadata": {},
   "outputs": [
    {
     "name": "stdout",
     "output_type": "stream",
     "text": [
      "True\n"
     ]
    }
   ],
   "source": [
    "i = 50\n",
    "j = 20\n",
    "\n",
    "if i > 20:\n",
    "    print(True)"
   ]
  },
  {
   "cell_type": "markdown",
   "id": "9c958a1a",
   "metadata": {},
   "source": [
    "# Functions"
   ]
  },
  {
   "cell_type": "code",
   "execution_count": 53,
   "id": "a84ac1e2",
   "metadata": {},
   "outputs": [
    {
     "name": "stdout",
     "output_type": "stream",
     "text": [
      "John Qwerty\n",
      "Ann Qwerty\n",
      "Dan Qwerty\n"
     ]
    }
   ],
   "source": [
    "def myFunction(fname):\n",
    "  print(fname + \" Qwerty\")\n",
    "\n",
    "myFunction(\"John\")\n",
    "myFunction(\"Ann\")\n",
    "myFunction(\"Dan\")"
   ]
  },
  {
   "cell_type": "code",
   "execution_count": 54,
   "id": "93f90a99",
   "metadata": {},
   "outputs": [
    {
     "name": "stdout",
     "output_type": "stream",
     "text": [
      "Dan Qwerty\n"
     ]
    }
   ],
   "source": [
    "def myFunction(fname,lastname): # Two (2) arguments expects two (2) arguments\n",
    "    print(fname + \" \" + lastname)\n",
    "myFunction(\"Dan\" , \"Qwerty\") # correct number of arguments not more not less"
   ]
  },
  {
   "cell_type": "code",
   "execution_count": 55,
   "id": "9f7fdd4e",
   "metadata": {},
   "outputs": [
    {
     "name": "stdout",
     "output_type": "stream",
     "text": [
      "John Middle Qwerty\n"
     ]
    }
   ],
   "source": [
    "def myFunction(Fname,Mname,Lname): # Three (3) arguments \n",
    "    print(Fname + \" \" + Mname + \" \" + Lname )\n",
    "myFunction(\"John\" , \"Middle\" , \"Qwerty\")"
   ]
  },
  {
   "cell_type": "markdown",
   "id": "9d01c7bf",
   "metadata": {},
   "source": [
    "# *args"
   ]
  },
  {
   "cell_type": "code",
   "execution_count": 16,
   "id": "2dd6c0ed",
   "metadata": {},
   "outputs": [
    {
     "name": "stdout",
     "output_type": "stream",
     "text": [
      "The youngest child is Dan\n",
      "The oldest child is John\n",
      "The middle child is Ann\n"
     ]
    }
   ],
   "source": [
    "def myFunction(*child): # add Asterisk(*) before parameter name for unkown number of arguments to be used in the funtion\n",
    "    print(\"The youngest child is \" + child[2]) # recieves a tuple of arguments\n",
    "    print(\"The oldest child is \" + child[0])\n",
    "    print(\"The middle child is \" + child[1])\n",
    "myFunction(\"John\" , \"Ann\" , \"Dan\")"
   ]
  },
  {
   "cell_type": "code",
   "execution_count": 2,
   "id": "68d22806",
   "metadata": {},
   "outputs": [
    {
     "name": "stdout",
     "output_type": "stream",
     "text": [
      "The the dog's breed is Golden Retriever\n",
      "The cat's breed is Bengal\n"
     ]
    }
   ],
   "source": [
    "def myFunction(*breed):\n",
    "    print(\"The the dog's breed is \" + breed[0])\n",
    "    print(\"The cat's breed is \" + breed[1])\n",
    "myFunction(\"Golden Retriever\" , \"Bengal\" , \"Red Factor Canary\" , \"Koi\")"
   ]
  },
  {
   "cell_type": "code",
   "execution_count": null,
   "id": "536da3ff",
   "metadata": {},
   "outputs": [],
   "source": []
  },
  {
   "cell_type": "markdown",
   "id": "4d5bf0a4",
   "metadata": {},
   "source": [
    "# Keyword arguments"
   ]
  },
  {
   "cell_type": "code",
   "execution_count": 13,
   "id": "4d804302",
   "metadata": {},
   "outputs": [
    {
     "name": "stdout",
     "output_type": "stream",
     "text": [
      "The youngest child is Dan\n",
      "The oldest child is John\n",
      "The middle child is Ann\n"
     ]
    }
   ],
   "source": [
    "def myFunction(child1, child2, child3):\n",
    "    print(\"The youngest child is \" + child3)\n",
    "    print(\"The oldest child is \" + child1)\n",
    "    print(\"The middle child is \" + child2)\n",
    "myFunction(child1 = \"John\" , child2 = \"Ann\" , child3 = \"Dan\")"
   ]
  },
  {
   "cell_type": "code",
   "execution_count": 15,
   "id": "dc24148c",
   "metadata": {},
   "outputs": [
    {
     "name": "stdout",
     "output_type": "stream",
     "text": [
      "The hex code for red is #ff0000\n",
      "The hex code for white is #FFFFFF\n",
      "The hex code for black is #000000\n"
     ]
    }
   ],
   "source": [
    "def myFunction(color1, color2, color3):\n",
    "    print(\"The hex code for red is \" + color1)\n",
    "    print(\"The hex code for white is \" + color2)\n",
    "    print(\"The hex code for black is \" + color3)\n",
    "myFunction(color1 = \"#ff0000\" , color2 = \"#FFFFFF\", color3 = \"#000000\")"
   ]
  },
  {
   "cell_type": "code",
   "execution_count": null,
   "id": "5d9d10a7",
   "metadata": {},
   "outputs": [],
   "source": []
  },
  {
   "cell_type": "markdown",
   "id": "5fa3afa6",
   "metadata": {},
   "source": [
    "   # **kwargs"
   ]
  },
  {
   "cell_type": "code",
   "execution_count": 2,
   "id": "4ed1112d",
   "metadata": {},
   "outputs": [
    {
     "name": "stdout",
     "output_type": "stream",
     "text": [
      "The child's last name is Qwerty\n"
     ]
    }
   ],
   "source": [
    "def myFunction(**child): # Double asterisk(**) Unkown keywoard arguments that will be passed into the function \n",
    "    print(\"The child's last name is \" + child[\"Lname\"])\n",
    "myFunction(Fname = \"John\" , Lname = \"Qwerty\")"
   ]
  },
  {
   "cell_type": "code",
   "execution_count": 20,
   "id": "274efeb2",
   "metadata": {},
   "outputs": [
    {
     "name": "stdout",
     "output_type": "stream",
     "text": [
      "The car's model is Toyota, unit number 0123.\n"
     ]
    }
   ],
   "source": [
    "def myFunction(**car):\n",
    "    print(\"The car's model is \" + car[\"model\"] + \"unit number \" + car[\"mNumber\"])\n",
    "myFunction(model = \"Toyota\" + \", \" , mNumber = \"0123\" + \".\")"
   ]
  },
  {
   "cell_type": "code",
   "execution_count": null,
   "id": "ece5404f",
   "metadata": {},
   "outputs": [],
   "source": []
  },
  {
   "cell_type": "markdown",
   "id": "924eaa8a",
   "metadata": {},
   "source": [
    "# List as an argument"
   ]
  },
  {
   "cell_type": "code",
   "execution_count": 29,
   "id": "62f351f6",
   "metadata": {},
   "outputs": [
    {
     "name": "stdout",
     "output_type": "stream",
     "text": [
      "Samsung\n",
      "iPhone\n",
      "Huawei\n",
      "Lenovo\n",
      "4\n"
     ]
    }
   ],
   "source": [
    "def myFunction(phone):\n",
    "    for x in phone: # for in loop to loop through the elements\n",
    "        print (x)\n",
    "phone = [\"Samsung\",\"iPhone\",\"Huawei\",\"Lenovo\"]\n",
    "myFunction(phone)\n",
    "x = len(phone)\n",
    "print(x)"
   ]
  },
  {
   "cell_type": "code",
   "execution_count": null,
   "id": "7a3a5df9",
   "metadata": {},
   "outputs": [],
   "source": []
  },
  {
   "cell_type": "markdown",
   "id": "dd2995d9",
   "metadata": {},
   "source": [
    "# Arrays"
   ]
  },
  {
   "cell_type": "code",
   "execution_count": 30,
   "id": "6b0a6481",
   "metadata": {},
   "outputs": [
    {
     "name": "stdout",
     "output_type": "stream",
     "text": [
      "Samsung\n",
      "iPhone\n",
      "Huawei\n",
      "Lenovo\n",
      "RealMe\n"
     ]
    }
   ],
   "source": [
    "phone.append(\"RealMe\") #adding element\n",
    "myFunction(phone)"
   ]
  },
  {
   "cell_type": "code",
   "execution_count": 31,
   "id": "78079745",
   "metadata": {},
   "outputs": [
    {
     "name": "stdout",
     "output_type": "stream",
     "text": [
      "5\n"
     ]
    }
   ],
   "source": [
    "x = len(phone)#length\n",
    "print(x)"
   ]
  },
  {
   "cell_type": "code",
   "execution_count": 32,
   "id": "da6879e1",
   "metadata": {},
   "outputs": [
    {
     "name": "stdout",
     "output_type": "stream",
     "text": [
      "Samsung\n",
      "iPhone\n",
      "Huawei\n",
      "RealMe\n"
     ]
    }
   ],
   "source": [
    "phone.pop(3)#removing an element\n",
    "myFunction(phone)"
   ]
  },
  {
   "cell_type": "code",
   "execution_count": 33,
   "id": "221e7f84",
   "metadata": {},
   "outputs": [
    {
     "name": "stdout",
     "output_type": "stream",
     "text": [
      "4\n"
     ]
    }
   ],
   "source": [
    "x = len(phone)\n",
    "print(x)"
   ]
  },
  {
   "cell_type": "code",
   "execution_count": null,
   "id": "05136b9a",
   "metadata": {},
   "outputs": [],
   "source": []
  },
  {
   "cell_type": "markdown",
   "id": "43767cf2",
   "metadata": {},
   "source": [
    "# Class"
   ]
  },
  {
   "cell_type": "code",
   "execution_count": 38,
   "id": "3603fc8a",
   "metadata": {},
   "outputs": [
    {
     "name": "stdout",
     "output_type": "stream",
     "text": [
      "Name: John\n",
      "Age:  20\n",
      "Address: Batangas City\n",
      "Zip Code:  4200\n",
      "Country: Philippines\n"
     ]
    }
   ],
   "source": [
    "class Person:\n",
    "    def __init__(self, name, age, address, zcode, country): #__init__ function every time the class creates a new objects\n",
    "        self.name = name\n",
    "        self.age = age\n",
    "        self.address = address\n",
    "        self.zcode = zcode\n",
    "        self.country = country\n",
    "p1 = Person(\"John\", 20, \"Batangas City\", 4200, \"Philippines\")\n",
    "print(\"Name: \" + p1.name)\n",
    "print(\"Age: \" , p1.age)\n",
    "print(\"Address: \" + p1.address)\n",
    "print(\"Zip Code: \" , p1.zcode)\n",
    "print(\"Country: \" + p1.country)"
   ]
  },
  {
   "cell_type": "code",
   "execution_count": 40,
   "id": "bf5c7f05",
   "metadata": {},
   "outputs": [
    {
     "name": "stdout",
     "output_type": "stream",
     "text": [
      "Name: John\n",
      "Age:  20\n",
      "Address: Batangas City\n",
      "Zip Code:  4200\n",
      "Country: Philippines\n"
     ]
    }
   ],
   "source": [
    "class Person:\n",
    "    def __init__(mine, name, age, address, zcode, country): # originally self changed to mine\n",
    "        mine.name = name # self can named anything you like as long as it needs to be the first parameter of any function of the class\n",
    "        mine.age = age\n",
    "        mine.address = address\n",
    "        mine.zcode = zcode\n",
    "        mine.country = country\n",
    "p1 = Person(\"John\", 20, \"Batangas City\", 4200, \"Philippines\")\n",
    "print(\"Name: \" + p1.name)\n",
    "print(\"Age: \" , p1.age)\n",
    "print(\"Address: \" + p1.address)\n",
    "print(\"Zip Code: \" , p1.zcode)\n",
    "print(\"Country: \" + p1.country)"
   ]
  },
  {
   "cell_type": "code",
   "execution_count": 42,
   "id": "0ad4ca28",
   "metadata": {},
   "outputs": [
    {
     "name": "stdout",
     "output_type": "stream",
     "text": [
      "Name: Ben\n",
      "Age:  25\n",
      "Address: Batangas City\n",
      "Zip Code:  4200\n",
      "Country: Philippines\n"
     ]
    }
   ],
   "source": [
    "p1.name = \"Ben\"\n",
    "p1.age = 25\n",
    "print(\"Name: \" + p1.name)\n",
    "print(\"Age: \" , p1.age)\n",
    "print(\"Address: \" + p1.address)\n",
    "print(\"Zip Code: \" , p1.zcode)\n",
    "print(\"Country: \" + p1.country)"
   ]
  },
  {
   "cell_type": "code",
   "execution_count": null,
   "id": "36a82b51",
   "metadata": {},
   "outputs": [],
   "source": []
  },
  {
   "cell_type": "markdown",
   "id": "5b357f8a",
   "metadata": {},
   "source": [
    "# Inheritance"
   ]
  },
  {
   "cell_type": "code",
   "execution_count": 2,
   "id": "3f502cf8",
   "metadata": {},
   "outputs": [
    {
     "name": "stdout",
     "output_type": "stream",
     "text": [
      "John M. Last\n"
     ]
    }
   ],
   "source": [
    "class Person:\n",
    "    def __init__(self, Fname, Mname, Lname):\n",
    "        self.firstname = Fname\n",
    "        self.middlename = Mname\n",
    "        self.lastname = Lname\n",
    "        \n",
    "    def printname(self):\n",
    "        print(self.firstname, self.middlename, self.lastname)\n",
    "x = Person(\"John\", \"M.\", \"Last\")\n",
    "x.printname()"
   ]
  },
  {
   "cell_type": "code",
   "execution_count": 17,
   "id": "a670407a",
   "metadata": {},
   "outputs": [
    {
     "name": "stdout",
     "output_type": "stream",
     "text": [
      "Crust\n",
      "Mantle\n",
      "Core\n"
     ]
    }
   ],
   "source": [
    "class layer:\n",
    "    def __init__(self, first, second, third):\n",
    "        self.one = first\n",
    "        self.two = second\n",
    "        self.three = third\n",
    "    \n",
    "    def layerEarth(self):\n",
    "        print(self.one)\n",
    "        print(self.two)\n",
    "        print(self.three)\n",
    "x = layer(\"Crust\", \"Mantle\", \"Core\")\n",
    "x.layerEarth()"
   ]
  },
  {
   "cell_type": "code",
   "execution_count": 19,
   "id": "e6f88de6",
   "metadata": {},
   "outputs": [
    {
     "name": "stdout",
     "output_type": "stream",
     "text": [
      "Crust\n",
      "Continental Crust , Oceanic Crust\n"
     ]
    }
   ],
   "source": [
    "class SubCrust:\n",
    "    def __init__(self, first, second, third):\n",
    "        layer.__init__(self, first, second, third)\n",
    "    \n",
    "    def subC(self):\n",
    "        print(self.one)\n",
    "        print(self.two, \",\" , self.three)\n",
    "y = SubCrust(\"Crust\", \"Continental Crust\", \"Oceanic Crust\")\n",
    "y.subC()"
   ]
  },
  {
   "cell_type": "markdown",
   "id": "95ce4a27",
   "metadata": {},
   "source": [
    "# super()"
   ]
  },
  {
   "cell_type": "code",
   "execution_count": 26,
   "id": "46d2329e",
   "metadata": {},
   "outputs": [
    {
     "name": "stdout",
     "output_type": "stream",
     "text": [
      "Crust\n",
      "Continental Crust\n",
      "Oceanic Crust\n"
     ]
    }
   ],
   "source": [
    "class SubCrust(layer):#Subcrust() - child class of layer\n",
    "        def __inti__(self, first, second, third):\n",
    "            super().__intit__(self, first, second, third)# super() function inherits all of the parent's method and properties\n",
    "z = SubCrust(\"Crust\", \"Continental Crust\", \"Oceanic Crust\")\n",
    "z.layerEarth()"
   ]
  },
  {
   "cell_type": "code",
   "execution_count": 27,
   "id": "af65b29a",
   "metadata": {},
   "outputs": [
    {
     "name": "stdout",
     "output_type": "stream",
     "text": [
      "Mantle\n",
      "Upper Mantle\n",
      "Lower Mantle\n"
     ]
    }
   ],
   "source": [
    "class Mantle(layer):\n",
    "    def __intit__(self, first, second, third):\n",
    "        super().__intit__(self, first, second, third)\n",
    "yy = Mantle(\"Mantle\", \"Upper Mantle\", \"Lower Mantle\")\n",
    "yy.layerEarth()"
   ]
  },
  {
   "cell_type": "code",
   "execution_count": 28,
   "id": "c4e10dd3",
   "metadata": {},
   "outputs": [
    {
     "name": "stdout",
     "output_type": "stream",
     "text": [
      "Core\n",
      "Outer Core\n",
      "Inner Core\n"
     ]
    }
   ],
   "source": [
    "class Core(layer):\n",
    "    def __intit__(self, first, second, third):\n",
    "            super().__intit__(self, first, second, third)\n",
    "zz = Core(\"Core\", \"Outer Core\", \"Inner Core\")\n",
    "zz.layerEarth()"
   ]
  },
  {
   "cell_type": "code",
   "execution_count": null,
   "id": "6f0ce347",
   "metadata": {},
   "outputs": [],
   "source": []
  },
  {
   "cell_type": "code",
   "execution_count": null,
   "id": "bfdcdb97",
   "metadata": {},
   "outputs": [],
   "source": []
  }
 ],
 "metadata": {
  "kernelspec": {
   "display_name": "Python 3 (ipykernel)",
   "language": "python",
   "name": "python3"
  },
  "language_info": {
   "codemirror_mode": {
    "name": "ipython",
    "version": 3
   },
   "file_extension": ".py",
   "mimetype": "text/x-python",
   "name": "python",
   "nbconvert_exporter": "python",
   "pygments_lexer": "ipython3",
   "version": "3.9.12"
  }
 },
 "nbformat": 4,
 "nbformat_minor": 5
}
